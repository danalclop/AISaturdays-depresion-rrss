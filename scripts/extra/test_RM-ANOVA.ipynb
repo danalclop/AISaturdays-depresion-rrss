{
 "cells": [
  {
   "cell_type": "code",
   "execution_count": 1,
   "metadata": {},
   "outputs": [
    {
     "name": "stderr",
     "output_type": "stream",
     "text": [
      "/usr/local/anaconda3/lib/python3.7/site-packages/statsmodels/tools/_testing.py:19: FutureWarning: pandas.util.testing is deprecated. Use the functions in the public API at pandas.testing instead.\n",
      "  import pandas.util.testing as tm\n"
     ]
    }
   ],
   "source": [
    "import numpy as np\n",
    "import pandas as pd\n",
    "\n",
    "import matplotlib.pyplot as plt\n",
    "import seaborn as sns\n",
    "\n",
    "from sklearn.preprocessing import PowerTransformer"
   ]
  },
  {
   "cell_type": "code",
   "execution_count": 2,
   "metadata": {},
   "outputs": [],
   "source": [
    "data = pd.read_csv('../../processed-data/tidy_socialmedia_data.csv', index_col=0)"
   ]
  },
  {
   "cell_type": "code",
   "execution_count": 3,
   "metadata": {},
   "outputs": [
    {
     "name": "stdout",
     "output_type": "stream",
     "text": [
      "<class 'pandas.core.frame.DataFrame'>\n",
      "Int64Index: 8687 entries, 1 to 12245\n",
      "Data columns (total 24 columns):\n",
      " #   Column                           Non-Null Count  Dtype  \n",
      "---  ------                           --------------  -----  \n",
      " 0   Participant                      8687 non-null   int64  \n",
      " 1   Date                             8687 non-null   object \n",
      " 2   Day                              8687 non-null   object \n",
      " 3   Time                             8687 non-null   object \n",
      " 4   Session.Name                     8687 non-null   object \n",
      " 5   Notification.No                  8687 non-null   int64  \n",
      " 6   LifePak.Download.No              8687 non-null   int64  \n",
      " 7   Responded                        8687 non-null   int64  \n",
      " 8   Completed.Session                8687 non-null   int64  \n",
      " 9   Session.Instance                 8687 non-null   float64\n",
      " 10  Session.Instance.Response.Lapse  8687 non-null   object \n",
      " 11  Reminders.Delivered              8687 non-null   int64  \n",
      " 12  Fatigue                          8652 non-null   float64\n",
      " 13  LowMood                          8647 non-null   float64\n",
      " 14  Loneliness                       8646 non-null   float64\n",
      " 15  Concentrat                       8643 non-null   float64\n",
      " 16  LossOfInt                        8646 non-null   float64\n",
      " 17  Inferior                         8646 non-null   float64\n",
      " 18  Hopeless                         8649 non-null   float64\n",
      " 19  Stress                           8648 non-null   float64\n",
      " 20  PSMU                             8644 non-null   float64\n",
      " 21  News                             8647 non-null   float64\n",
      " 22  ASMU                             8645 non-null   float64\n",
      " 23  full_count                       8687 non-null   int64  \n",
      "dtypes: float64(12), int64(7), object(5)\n",
      "memory usage: 1.7+ MB\n"
     ]
    }
   ],
   "source": [
    "data.info()"
   ]
  },
  {
   "cell_type": "code",
   "execution_count": 4,
   "metadata": {},
   "outputs": [],
   "source": [
    "data['Date']= pd.to_datetime(data['Date'])"
   ]
  },
  {
   "cell_type": "code",
   "execution_count": 12,
   "metadata": {},
   "outputs": [
    {
     "data": {
      "text/html": [
       "<div>\n",
       "<style scoped>\n",
       "    .dataframe tbody tr th:only-of-type {\n",
       "        vertical-align: middle;\n",
       "    }\n",
       "\n",
       "    .dataframe tbody tr th {\n",
       "        vertical-align: top;\n",
       "    }\n",
       "\n",
       "    .dataframe thead th {\n",
       "        text-align: right;\n",
       "    }\n",
       "</style>\n",
       "<table border=\"1\" class=\"dataframe\">\n",
       "  <thead>\n",
       "    <tr style=\"text-align: right;\">\n",
       "      <th></th>\n",
       "      <th>Participant</th>\n",
       "      <th>Date</th>\n",
       "      <th>LowMood</th>\n",
       "    </tr>\n",
       "  </thead>\n",
       "  <tbody>\n",
       "    <tr>\n",
       "      <th>0</th>\n",
       "      <td>115091</td>\n",
       "      <td>2017-05-02</td>\n",
       "      <td>33.000000</td>\n",
       "    </tr>\n",
       "    <tr>\n",
       "      <th>1</th>\n",
       "      <td>115091</td>\n",
       "      <td>2017-05-03</td>\n",
       "      <td>22.666667</td>\n",
       "    </tr>\n",
       "    <tr>\n",
       "      <th>2</th>\n",
       "      <td>115091</td>\n",
       "      <td>2017-05-04</td>\n",
       "      <td>28.833333</td>\n",
       "    </tr>\n",
       "    <tr>\n",
       "      <th>3</th>\n",
       "      <td>115091</td>\n",
       "      <td>2017-05-05</td>\n",
       "      <td>16.500000</td>\n",
       "    </tr>\n",
       "    <tr>\n",
       "      <th>4</th>\n",
       "      <td>115091</td>\n",
       "      <td>2017-05-06</td>\n",
       "      <td>32.200000</td>\n",
       "    </tr>\n",
       "    <tr>\n",
       "      <th>...</th>\n",
       "      <td>...</td>\n",
       "      <td>...</td>\n",
       "      <td>...</td>\n",
       "    </tr>\n",
       "    <tr>\n",
       "      <th>1722</th>\n",
       "      <td>9873359</td>\n",
       "      <td>2017-04-21</td>\n",
       "      <td>0.000000</td>\n",
       "    </tr>\n",
       "    <tr>\n",
       "      <th>1723</th>\n",
       "      <td>9873359</td>\n",
       "      <td>2017-04-22</td>\n",
       "      <td>2.714286</td>\n",
       "    </tr>\n",
       "    <tr>\n",
       "      <th>1724</th>\n",
       "      <td>9873359</td>\n",
       "      <td>2017-04-23</td>\n",
       "      <td>1.833333</td>\n",
       "    </tr>\n",
       "    <tr>\n",
       "      <th>1725</th>\n",
       "      <td>9873359</td>\n",
       "      <td>2017-04-24</td>\n",
       "      <td>1.666667</td>\n",
       "    </tr>\n",
       "    <tr>\n",
       "      <th>1726</th>\n",
       "      <td>9873359</td>\n",
       "      <td>2017-04-25</td>\n",
       "      <td>0.000000</td>\n",
       "    </tr>\n",
       "  </tbody>\n",
       "</table>\n",
       "<p>1727 rows × 3 columns</p>\n",
       "</div>"
      ],
      "text/plain": [
       "      Participant       Date    LowMood\n",
       "0          115091 2017-05-02  33.000000\n",
       "1          115091 2017-05-03  22.666667\n",
       "2          115091 2017-05-04  28.833333\n",
       "3          115091 2017-05-05  16.500000\n",
       "4          115091 2017-05-06  32.200000\n",
       "...           ...        ...        ...\n",
       "1722      9873359 2017-04-21   0.000000\n",
       "1723      9873359 2017-04-22   2.714286\n",
       "1724      9873359 2017-04-23   1.833333\n",
       "1725      9873359 2017-04-24   1.666667\n",
       "1726      9873359 2017-04-25   0.000000\n",
       "\n",
       "[1727 rows x 3 columns]"
      ]
     },
     "metadata": {},
     "output_type": "display_data"
    }
   ],
   "source": [
    "dailyMean = data.groupby([\"Participant\", \"Date\"], as_index=False)[\"LowMood\"].mean()\n",
    "display(dailyMean)"
   ]
  },
  {
   "cell_type": "code",
   "execution_count": null,
   "metadata": {},
   "outputs": [],
   "source": []
  }
 ],
 "metadata": {
  "kernelspec": {
   "display_name": "Python 3",
   "language": "python",
   "name": "python3"
  },
  "language_info": {
   "codemirror_mode": {
    "name": "ipython",
    "version": 3
   },
   "file_extension": ".py",
   "mimetype": "text/x-python",
   "name": "python",
   "nbconvert_exporter": "python",
   "pygments_lexer": "ipython3",
   "version": "3.7.4"
  }
 },
 "nbformat": 4,
 "nbformat_minor": 2
}
